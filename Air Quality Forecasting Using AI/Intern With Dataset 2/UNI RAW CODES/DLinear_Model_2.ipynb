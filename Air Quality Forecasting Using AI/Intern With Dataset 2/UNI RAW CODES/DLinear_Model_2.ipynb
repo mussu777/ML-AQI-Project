{
 "cells": [
  {
   "cell_type": "code",
   "execution_count": null,
   "id": "a0f95e2f",
   "metadata": {},
   "outputs": [],
   "source": [
    "import pandas as pd\n",
    "from darts import TimeSeries"
   ]
  },
  {
   "cell_type": "code",
   "execution_count": null,
   "id": "57457794",
   "metadata": {},
   "outputs": [],
   "source": [
    "df = pd.read_csv(\"MY1_2023.csv\")\n",
    "\n",
    "df"
   ]
  },
  {
   "cell_type": "code",
   "execution_count": null,
   "id": "eeb65aac",
   "metadata": {},
   "outputs": [],
   "source": [
    "df1 = df\n",
    "df1['Datetime'] = pd.to_datetime(df['Datetime'])\n",
    "\n",
    "df1 = df.set_index('Datetime')\n",
    "#df1\n",
    "df2=df1.resample('1H').mean()\n",
    "df2.reset_index(inplace = True)\n",
    "df2.head()"
   ]
  },
  {
   "cell_type": "code",
   "execution_count": null,
   "id": "d85b3bf5",
   "metadata": {},
   "outputs": [],
   "source": [
    "df2.isnull().sum()"
   ]
  },
  {
   "cell_type": "code",
   "execution_count": null,
   "id": "f59b6189",
   "metadata": {},
   "outputs": [],
   "source": [
    "df2.interpolate(method='ffill', inplace=True)\n",
    "df2"
   ]
  },
  {
   "cell_type": "code",
   "execution_count": null,
   "id": "b2ba3a32",
   "metadata": {},
   "outputs": [],
   "source": [
    "print(df2.isnull().sum())"
   ]
  },
  {
   "cell_type": "code",
   "execution_count": null,
   "id": "82cac47d",
   "metadata": {},
   "outputs": [],
   "source": [
    "df = df2\n",
    "\n",
    "target1 = 'field1'\n",
    "test_l = 168\n",
    "train_l = len(df) - test_l\n",
    "date = 'Datetime'\n",
    "# Create a TimeSeries, specifying the time and value columns\n",
    "series1 = TimeSeries.from_dataframe(df, date, target1)\n",
    "\n",
    "# Set aside the last 24 hours as a validation series\n",
    "train1, val1 = series1[:train_l], series1[train_l:]\n",
    "\n",
    "target2 = 'field2'\n",
    "test_l = 168\n",
    "train_l = len(df) - test_l\n",
    "\n",
    "# Create a TimeSeries, specifying the time and value columns\n",
    "series2 = TimeSeries.from_dataframe(df, date, target2)\n",
    "\n",
    "# Set aside the last 24 hours as a validation series\n",
    "train2, val2 = series2[:train_l], series2[train_l:]\n",
    "\n",
    "target3 = 'field3'\n",
    "test_l = 168\n",
    "train_l = len(df) - test_l\n",
    "\n",
    "# Create a TimeSeries, specifying the time and value columns\n",
    "series3 = TimeSeries.from_dataframe(df, date, target3)\n",
    "\n",
    "# Set aside the last 24 hours as a validation series\n",
    "train3, val3 = series3[:train_l], series3[train_l:]\n",
    "\n",
    "target4 = 'field4'\n",
    "test_l = 168\n",
    "train_l = len(df) - test_l\n",
    "\n",
    "# Create a TimeSeries, specifying the time and value columns\n",
    "series4 = TimeSeries.from_dataframe(df, date, target4)\n",
    "\n",
    "# Set aside the last 24 hours as a validation series\n",
    "train4, val4 = series4[:train_l], series4[train_l:]\n",
    "\n",
    "target7 = 'field7'\n",
    "test_l = 168\n",
    "train_l = len(df) - test_l\n",
    "\n",
    "# Create a TimeSeries, specifying the time and value columns\n",
    "series7 = TimeSeries.from_dataframe(df, date, target7)\n",
    "\n",
    "# Set aside the last 24 hours as a validation series\n",
    "train7, val7 = series7[:train_l], series7[train_l:]\n",
    "\n",
    "target8 = 'field8'\n",
    "test_l = 168\n",
    "train_l = len(df) - test_l\n",
    "\n",
    "# Create a TimeSeries, specifying the time and value columns\n",
    "series8 = TimeSeries.from_dataframe(df, date, target8)\n",
    "\n",
    "# Set aside the last 24 hours as a validation series\n",
    "train8, val8 = series8[:train_l], series8[train_l:]"
   ]
  },
  {
   "cell_type": "markdown",
   "id": "15dfa0fb",
   "metadata": {},
   "source": [
    "# Dlinear Model"
   ]
  },
  {
   "cell_type": "code",
   "execution_count": null,
   "id": "614d244b",
   "metadata": {},
   "outputs": [],
   "source": [
    "from darts.metrics import rmse, mae, mape\n",
    "from darts.models import DLinearModel\n",
    "\n",
    "input_chunk_length = 24  # Specify the input chunk length for DLinearModel\n",
    "output_chunk_length = 12  # Specify the output chunk length for DLinearModel\n",
    "\n",
    "# Train DLinear model for target1\n",
    "model1 = DLinearModel(input_chunk_length=input_chunk_length, output_chunk_length=output_chunk_length, shared_weights=False, kernel_size=25, const_init=True, use_static_covariates=True)\n",
    "model1.fit(train1)\n",
    "\n",
    "# Test DLinear model for target1\n",
    "prediction1 = model1.predict(len(val1))\n",
    "\n",
    "# Calculate RMSE and MAE for target1\n",
    "rmse1 = rmse(prediction1, val1.univariate_component(target1))\n",
    "mae1 = mae(prediction1, val1.univariate_component(target1))\n",
    "mape1 = mape(prediction1,val1.univariate_component(target1))\n",
    "\n",
    "# Train DLinear model for target2\n",
    "model2 = DLinearModel(input_chunk_length=input_chunk_length, output_chunk_length=output_chunk_length, shared_weights=False, kernel_size=25, const_init=True, use_static_covariates=True)\n",
    "model2.fit(train2)\n",
    "\n",
    "# Test DLinear model for target2\n",
    "prediction2 = model2.predict(len(val2))\n",
    "\n",
    "# Calculate RMSE and MAE for target2\n",
    "rmse2 = rmse(prediction2, val2.univariate_component(target2))\n",
    "mae2 = mae(prediction2, val2.univariate_component(target2))\n",
    "mape2 = mape(prediction2,val2.univariate_component(target2))\n",
    "\n",
    "# Train DLinear model for target3\n",
    "model3 = DLinearModel(input_chunk_length=input_chunk_length, output_chunk_length=output_chunk_length, shared_weights=False, kernel_size=25, const_init=True, use_static_covariates=True)\n",
    "model3.fit(train3)\n",
    "\n",
    "# Test DLinear model for target3\n",
    "prediction3 = model3.predict(len(val3))\n",
    "\n",
    "# Calculate RMSE and MAE for target3\n",
    "rmse3 = rmse(prediction3, val3.univariate_component(target3))\n",
    "mae3 = mae(prediction3, val3.univariate_component(target3))\n",
    "mape3 = mape(prediction3,val3.univariate_component(target3))\n",
    "\n",
    "# Train DLinear model for target4\n",
    "model4 = DLinearModel(input_chunk_length=input_chunk_length, output_chunk_length=output_chunk_length, shared_weights=False, kernel_size=25, const_init=True, use_static_covariates=True)\n",
    "model4.fit(train4)\n",
    "\n",
    "# Test DLinear model for target4\n",
    "prediction4 = model4.predict(len(val4))\n",
    "\n",
    "# Calculate RMSE and MAE for target4\n",
    "rmse4 = rmse(prediction4, val4.univariate_component(target4))\n",
    "mae4 = mae(prediction4, val4.univariate_component(target4))\n",
    "mape4 = mape(prediction4,val4.univariate_component(target4))\n",
    "\n",
    "# Train DLinear model for target7\n",
    "model7 = DLinearModel(input_chunk_length=input_chunk_length, output_chunk_length=output_chunk_length, shared_weights=False, kernel_size=25, const_init=True, use_static_covariates=True)\n",
    "model7.fit(train7)\n",
    "\n",
    "# Test DLinear model for target7\n",
    "prediction7 = model7.predict(len(val7))\n",
    "\n",
    "# Calculate RMSE and MAE for target7\n",
    "rmse7 = rmse(prediction7, val7.univariate_component(target7))\n",
    "mae7 = mae(prediction7, val7.univariate_component(target7))\n",
    "mape7 = mape(prediction7,val7.univariate_component(target7))\n",
    "\n",
    "# Train DLinear model for target8\n",
    "model8 = DLinearModel(input_chunk_length=input_chunk_length, output_chunk_length=output_chunk_length, shared_weights=False, kernel_size=25, const_init=True, use_static_covariates=True)\n",
    "model8.fit(train8)\n",
    "\n",
    "# Test DLinear model for target8\n",
    "prediction8 = model8.predict(len(val8))\n",
    "\n",
    "# Calculate RMSE and MAE for target8\n",
    "rmse8 = rmse(prediction8, val8.univariate_component(target8))\n",
    "mae8 = mae(prediction8, val8.univariate_component(target8))\n",
    "mape8 = mape(prediction8,val8.univariate_component(target8))\n",
    "\n",
    "# Create a DataFrame to store the results\n",
    "results = pd.DataFrame({\n",
    "    'Target': ['target1', 'target2', 'target3', 'target4', 'target7', 'target8'],\n",
    "    'RMSE': [rmse1, rmse2, rmse3, rmse4, rmse7, rmse8],\n",
    "    'MAE': [mae1, mae2, mae3, mae4, mae7, mae8],\n",
    "    'MAPE': [mape1, mape2, mape3, mape4, mape7, mape8]\n",
    "})\n",
    "\n",
    "# Save the results to a CSV file\n",
    "results.to_csv('DLinearModel_2.csv', index=False)\n"
   ]
  },
  {
   "cell_type": "code",
   "execution_count": null,
   "id": "7ccabd61",
   "metadata": {},
   "outputs": [],
   "source": [
    "import matplotlib.pyplot as plt\n",
    "\n",
    "plt.rcParams['figure.figsize'] = [30, 30]\n",
    "val1.plot()\n",
    "prediction1.plot(label=\"forecast\", low_quantile=0.05, high_quantile=0.95)\n",
    "plt.legend()\n",
    "plt.show()"
   ]
  },
  {
   "cell_type": "code",
   "execution_count": null,
   "id": "5f7dc4e2",
   "metadata": {},
   "outputs": [],
   "source": [
    "plt.rcParams['figure.figsize'] = [30, 30]\n",
    "val2.plot()\n",
    "prediction2.plot(label=\"forecast\", low_quantile=0.05, high_quantile=0.95)\n",
    "plt.legend()\n",
    "plt.show()"
   ]
  },
  {
   "cell_type": "code",
   "execution_count": null,
   "id": "ebb01fd1",
   "metadata": {},
   "outputs": [],
   "source": [
    "plt.rcParams['figure.figsize'] = [30, 30]\n",
    "val3.plot()\n",
    "prediction3.plot(label=\"forecast\", low_quantile=0.05, high_quantile=0.95)\n",
    "plt.legend()\n",
    "plt.show()"
   ]
  },
  {
   "cell_type": "code",
   "execution_count": null,
   "id": "ee2b641a",
   "metadata": {},
   "outputs": [],
   "source": [
    "plt.rcParams['figure.figsize'] = [30, 30]\n",
    "val4.plot()\n",
    "prediction4.plot(label=\"forecast\", low_quantile=0.05, high_quantile=0.95)\n",
    "plt.legend()\n",
    "plt.show()"
   ]
  },
  {
   "cell_type": "code",
   "execution_count": null,
   "id": "6dbb49a6",
   "metadata": {},
   "outputs": [],
   "source": [
    "plt.rcParams['figure.figsize'] = [30, 30]\n",
    "val7.plot()\n",
    "prediction7.plot(label=\"forecast\", low_quantile=0.05, high_quantile=0.95)\n",
    "plt.legend()\n",
    "plt.show()"
   ]
  },
  {
   "cell_type": "code",
   "execution_count": null,
   "id": "5b173b9c",
   "metadata": {},
   "outputs": [],
   "source": [
    "plt.rcParams['figure.figsize'] = [30, 30]\n",
    "val8.plot()\n",
    "prediction8.plot(label=\"forecast\", low_quantile=0.05, high_quantile=0.95)\n",
    "plt.legend()\n",
    "plt.show()"
   ]
  },
  {
   "cell_type": "code",
   "execution_count": null,
   "id": "15d20ace",
   "metadata": {},
   "outputs": [],
   "source": []
  },
  {
   "cell_type": "code",
   "execution_count": null,
   "id": "b0c6908e",
   "metadata": {},
   "outputs": [],
   "source": []
  }
 ],
 "metadata": {
  "kernelspec": {
   "display_name": "Python 3 (ipykernel)",
   "language": "python",
   "name": "python3"
  },
  "language_info": {
   "codemirror_mode": {
    "name": "ipython",
    "version": 3
   },
   "file_extension": ".py",
   "mimetype": "text/x-python",
   "name": "python",
   "nbconvert_exporter": "python",
   "pygments_lexer": "ipython3",
   "version": "3.11.3"
  }
 },
 "nbformat": 4,
 "nbformat_minor": 5
}
